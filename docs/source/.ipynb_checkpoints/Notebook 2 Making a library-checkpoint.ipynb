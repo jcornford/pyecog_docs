{
 "cells": [
  {
   "cell_type": "markdown",
   "metadata": {},
   "source": [
    "# Notebook 2 Making a library\n"
   ]
  },
  {
   "cell_type": "markdown",
   "metadata": {},
   "source": [
    "## Loading the pyecog module\n",
    "\n",
    "The easiest place to place and run this notebook is from the pyecog directory downloaded from github, e.g. \"pyecog-Development\" as the pyecog module will be found in this folder. However, if you want to run the notebook from else where on your computer you first need to make sure that python can find the pyecog module using sys.path.append(). To do this modify and copy the following code into a cell and run it (shift+enter).\n",
    "\n",
    "```python\n",
    "import sys\n",
    "pyecog_path = 'home/jonathan/git_repos/pyecog' # replace this with the pyecog location\n",
    "sys.path.append(pyecog_path)\n",
    "```\n",
    "\n",
    "If you are on windows you have to deal with the problem that backslashes in your paths are treated escape characters by python. Prefixing the string with 'r' prevents this. \n",
    "\n",
    "```python\n",
    "pyecog_path_windows = r'home\\jonathan\\git_repos\\pyecog' # replace this with the pyecog location\n",
    "\n",
    "```"
   ]
  },
  {
   "cell_type": "code",
   "execution_count": 1,
   "metadata": {},
   "outputs": [],
   "source": [
    "import sys\n",
    "import os\n",
    "import pandas as pd"
   ]
  },
  {
   "cell_type": "code",
   "execution_count": 2,
   "metadata": {},
   "outputs": [],
   "source": [
    "# if you are in the directory downloaded from github you do not have to run this cell \n",
    "\n",
    "pyecog_path = r'C:\\Users\\Eleonora Lugara\\Desktop\\pyecog-Development'# replace this with the Pyecog-Master location\n",
    "sys.path.append(pyecog_path)"
   ]
  },
  {
   "cell_type": "code",
   "execution_count": 4,
   "metadata": {},
   "outputs": [
    {
     "data": {
      "text/plain": [
       "<module 'pyecog' from '/home/jonathan/git_repos/pyecog/pyecog/__init__.py'>"
      ]
     },
     "execution_count": 4,
     "metadata": {},
     "output_type": "execute_result"
    }
   ],
   "source": [
    "import pyecog as pg\n",
    "\n",
    "pg # check the module is imported from where you expect"
   ]
  },
  {
   "cell_type": "code",
   "execution_count": 6,
   "metadata": {},
   "outputs": [],
   "source": [
    "\n",
    "\n",
    "seizure_lib_path = 'test30'"
   ]
  },
  {
   "cell_type": "markdown",
   "metadata": {},
   "source": [
    "# log of things added to library:\n",
    "```python\n",
    "annotations_path = r'C:\\Users\\wykeslab\\Desktop\\KA Annotations\\AnnotationsOnly_T199.csv'\n",
    "h5_folderpath    = r'C:\\Users\\wykeslab\\Desktop\\KA rats pilot study\\H5_All'\n",
    "handler.make_seizure_library(df = annotations_df,\n",
    "                             file_dir=h5_folderpath,\n",
    "                             timewindow=5,\n",
    "                             seizure_library_name=seizure_lib_path)\n",
    "                             \n",
    "handler.add_features_to_seizure_library(library_path=seizure_lib_path, \n",
    "                                        overwrite=False)   \n",
    "\n",
    "\n",
    "# on march 2019 added these etc etc\n",
    "annotations_path = r'C:\\Users\\wykeslab\\Desktop\\KA Annotations\\AnnotationsOnly_T199.csv'\n",
    "h5_folderpath    = r'C:\\Users\\wykeslab\\Desktop\\KA rats pilot study\\H5_All'\n",
    "\n",
    "handler.append_to_seizure_library(df = annotations_df,\n",
    "                                 file_dir=h5_folderpath,\n",
    "                                 timewindow=5,\n",
    "                                 seizure_library_name=seizure_lib_path)\n",
    "handler.add_features_to_seizure_library(library_path=seizure_lib_path, \n",
    "                                        overwrite=False)\n",
    "```"
   ]
  },
  {
   "cell_type": "markdown",
   "metadata": {},
   "source": [
    "# Make library\n",
    "\n",
    "- you should run a 'if exists check...'"
   ]
  },
  {
   "cell_type": "code",
   "execution_count": null,
   "metadata": {},
   "outputs": [],
   "source": [
    "annotations_path = r'C:\\Users\\wykeslab\\Desktop\\KA Annotations\\AnnotationsOnly_T199.csv'\n",
    "h5_folderpath    = r'C:\\Users\\wykeslab\\Desktop\\KA rats pilot study\\H5_All'\n",
    "handler.make_seizure_library(df = annotations_df,\n",
    "                             file_dir=h5_folderpath,\n",
    "                             timewindow=5,\n",
    "                             seizure_library_name=seizure_lib_path)\n",
    "                             \n",
    "handler.add_features_to_seizure_library(library_path=seizure_lib_path, \n",
    "                                        overwrite=False)                             "
   ]
  },
  {
   "cell_type": "markdown",
   "metadata": {},
   "source": [
    "# Add to library"
   ]
  },
  {
   "cell_type": "code",
   "execution_count": null,
   "metadata": {},
   "outputs": [],
   "source": [
    "# more annotations\n",
    "annotations_path = r'C:\\Users\\wykeslab\\Desktop\\KA Annotations\\AnnotationsOnly_T199.csv'\n",
    "h5_folderpath    = r'C:\\Users\\wykeslab\\Desktop\\KA rats pilot study\\H5_All'\n"
   ]
  },
  {
   "cell_type": "code",
   "execution_count": null,
   "metadata": {},
   "outputs": [],
   "source": [
    "handler.append_to_seizure_library(df = annotations_df,\n",
    "                                 file_dir=h5_folderpath,\n",
    "                                 timewindow=5,\n",
    "                                 seizure_library_name=seizure_lib_path)"
   ]
  },
  {
   "cell_type": "code",
   "execution_count": null,
   "metadata": {},
   "outputs": [],
   "source": [
    "handler.add_features_to_seizure_library(library_path=seizure_lib_path, \n",
    "                                        overwrite=False)"
   ]
  },
  {
   "cell_type": "code",
   "execution_count": null,
   "metadata": {},
   "outputs": [],
   "source": []
  },
  {
   "cell_type": "markdown",
   "metadata": {},
   "source": [
    "# Make and train classifier"
   ]
  },
  {
   "cell_type": "code",
   "execution_count": 8,
   "metadata": {},
   "outputs": [
    {
     "ename": "NameError",
     "evalue": "name 'seizure_lib_path' is not defined",
     "output_type": "error",
     "traceback": [
      "\u001b[0;31m---------------------------------------------------------------------------\u001b[0m",
      "\u001b[0;31mNameError\u001b[0m                                 Traceback (most recent call last)",
      "\u001b[0;32m<ipython-input-8-64390983e745>\u001b[0m in \u001b[0;36m<module>\u001b[0;34m()\u001b[0m\n\u001b[0;32m----> 1\u001b[0;31m \u001b[0mclf\u001b[0m \u001b[0;34m=\u001b[0m \u001b[0mpg\u001b[0m\u001b[0;34m.\u001b[0m\u001b[0mClassifier\u001b[0m\u001b[0;34m(\u001b[0m\u001b[0mlibrary_path\u001b[0m \u001b[0;34m=\u001b[0m \u001b[0mseizure_lib_path\u001b[0m\u001b[0;34m)\u001b[0m\u001b[0;34m\u001b[0m\u001b[0m\n\u001b[0m",
      "\u001b[0;31mNameError\u001b[0m: name 'seizure_lib_path' is not defined"
     ]
    }
   ],
   "source": [
    "clf = pg.Classifier(library_path = seizure_lib_path)"
   ]
  },
  {
   "cell_type": "code",
   "execution_count": 9,
   "metadata": {},
   "outputs": [],
   "source": [
    "from sklearn.ensemble import RandomForestClassifier"
   ]
  },
  {
   "cell_type": "code",
   "execution_count": 1,
   "metadata": {},
   "outputs": [
    {
     "ename": "NameError",
     "evalue": "name 'pg' is not defined",
     "output_type": "error",
     "traceback": [
      "\u001b[0;31m---------------------------------------------------------------------------\u001b[0m",
      "\u001b[0;31mNameError\u001b[0m                                 Traceback (most recent call last)",
      "\u001b[0;32m<ipython-input-1-0d9f71a7b0ba>\u001b[0m in \u001b[0;36m<module>\u001b[0;34m()\u001b[0m\n\u001b[0;32m----> 1\u001b[0;31m clf.algo = pg.ClassificationAlgorithm(RandomForestClassifier(n_jobs=-1, n_estimators=800, random_state=7),\n\u001b[0m\u001b[1;32m      2\u001b[0m                                      pg.HMM())\n",
      "\u001b[0;31mNameError\u001b[0m: name 'pg' is not defined"
     ]
    }
   ],
   "source": [
    "clf.algo = pg.ClassificationAlgorithm(RandomForestClassifier(n_jobs=-1, n_estimators=800, random_state=7),\n",
    "                                     pg.HMM())"
   ]
  },
  {
   "cell_type": "code",
   "execution_count": null,
   "metadata": {},
   "outputs": [],
   "source": [
    "clf.algo.descriminative_model"
   ]
  },
  {
   "cell_type": "code",
   "execution_count": null,
   "metadata": {},
   "outputs": [],
   "source": [
    "clf.algo.hmm"
   ]
  },
  {
   "cell_type": "code",
   "execution_count": null,
   "metadata": {},
   "outputs": [],
   "source": [
    "clf.preprocess_features()"
   ]
  },
  {
   "cell_type": "code",
   "execution_count": null,
   "metadata": {},
   "outputs": [],
   "source": [
    "%%time\n",
    "clf.train()"
   ]
  },
  {
   "cell_type": "code",
   "execution_count": null,
   "metadata": {},
   "outputs": [],
   "source": [
    "# choose where to save the classifier!\n",
    "clf.save('test_30_clf_trained.p')\n",
    "\n"
   ]
  },
  {
   "cell_type": "code",
   "execution_count": null,
   "metadata": {},
   "outputs": [],
   "source": [
    "clf.X.shape, clf.y.sum()\n",
    "\n"
   ]
  },
  {
   "cell_type": "code",
   "execution_count": null,
   "metadata": {},
   "outputs": [],
   "source": [
    "preds = clf.predict(clf.X, 0.5)"
   ]
  },
  {
   "cell_type": "code",
   "execution_count": null,
   "metadata": {},
   "outputs": [],
   "source": [
    "import sklearn.metrics as sk_metrics"
   ]
  },
  {
   "cell_type": "code",
   "execution_count": null,
   "metadata": {},
   "outputs": [],
   "source": [
    "print(sk_metrics.classification_report(clf.y, preds))"
   ]
  },
  {
   "cell_type": "code",
   "execution_count": null,
   "metadata": {},
   "outputs": [],
   "source": []
  },
  {
   "cell_type": "code",
   "execution_count": null,
   "metadata": {},
   "outputs": [],
   "source": []
  },
  {
   "cell_type": "code",
   "execution_count": null,
   "metadata": {},
   "outputs": [],
   "source": []
  }
 ],
 "metadata": {
  "kernelspec": {
   "display_name": "Python 3",
   "language": "python",
   "name": "python3"
  },
  "language_info": {
   "codemirror_mode": {
    "name": "ipython",
    "version": 3
   },
   "file_extension": ".py",
   "mimetype": "text/x-python",
   "name": "python",
   "nbconvert_exporter": "python",
   "pygments_lexer": "ipython3",
   "version": "3.5.6"
  }
 },
 "nbformat": 4,
 "nbformat_minor": 2
}
