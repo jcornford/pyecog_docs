{
 "cells": [
  {
   "cell_type": "markdown",
   "metadata": {},
   "source": [
    "## Description\n",
    "\n",
    "Often we want to compare if two files with seizure annotations contain the same annotations. For example, if you look through a week of recordings and annotate the sezures, comparing a classifier's predictions with your annotations will allow you to check the number of false positives and (more importantly) false negatives. "
   ]
  },
  {
   "cell_type": "code",
   "execution_count": 1,
   "metadata": {},
   "outputs": [],
   "source": [
    "import os\n",
    "\n",
    "import numpy as np\n",
    "import matplotlib.pyplot as plt\n",
    "import pandas as pd\n"
   ]
  },
  {
   "cell_type": "markdown",
   "metadata": {},
   "source": [
    "For an example we will look at the difference between a raw predictions output and the same file after it has been manually checked and the false postives removed using the gui. "
   ]
  },
  {
   "cell_type": "code",
   "execution_count": 2,
   "metadata": {},
   "outputs": [],
   "source": [
    "checked_preds = pd.read_csv('./example_data/checked_predictions.csv', index_col=0)\n",
    "raw_preds     = pd.read_csv('./example_data/raw_predictions.csv', index_col=0)"
   ]
  },
  {
   "cell_type": "code",
   "execution_count": 3,
   "metadata": {},
   "outputs": [
    {
     "data": {
      "text/html": [
       "<div>\n",
       "<style scoped>\n",
       "    .dataframe tbody tr th:only-of-type {\n",
       "        vertical-align: middle;\n",
       "    }\n",
       "\n",
       "    .dataframe tbody tr th {\n",
       "        vertical-align: top;\n",
       "    }\n",
       "\n",
       "    .dataframe thead th {\n",
       "        text-align: right;\n",
       "    }\n",
       "</style>\n",
       "<table border=\"1\" class=\"dataframe\">\n",
       "  <thead>\n",
       "    <tr style=\"text-align: right;\">\n",
       "      <th></th>\n",
       "      <th>old_index</th>\n",
       "      <th>filename</th>\n",
       "      <th>start</th>\n",
       "      <th>end</th>\n",
       "      <th>duration</th>\n",
       "      <th>transmitter</th>\n",
       "      <th>real_start</th>\n",
       "      <th>real_end</th>\n",
       "    </tr>\n",
       "  </thead>\n",
       "  <tbody>\n",
       "    <tr>\n",
       "      <th>0</th>\n",
       "      <td>3</td>\n",
       "      <td>M1513966209_2017-12-22-18-10-09_tids_[99].h5</td>\n",
       "      <td>610.0</td>\n",
       "      <td>625.0</td>\n",
       "      <td>15.0</td>\n",
       "      <td>[99]</td>\n",
       "      <td>2017-12-22 18:20:19</td>\n",
       "      <td>2017-12-22 18:20:34</td>\n",
       "    </tr>\n",
       "    <tr>\n",
       "      <th>1</th>\n",
       "      <td>15</td>\n",
       "      <td>M1514016609_2017-12-23-08-10-09_tids_[99].h5</td>\n",
       "      <td>950.0</td>\n",
       "      <td>985.0</td>\n",
       "      <td>35.0</td>\n",
       "      <td>[99]</td>\n",
       "      <td>2017-12-23 08:25:59</td>\n",
       "      <td>2017-12-23 08:26:34</td>\n",
       "    </tr>\n",
       "    <tr>\n",
       "      <th>2</th>\n",
       "      <td>55</td>\n",
       "      <td>M1514164210_2017-12-25-01-10-10_tids_[99].h5</td>\n",
       "      <td>1305.0</td>\n",
       "      <td>1345.0</td>\n",
       "      <td>40.0</td>\n",
       "      <td>[99]</td>\n",
       "      <td>2017-12-25 01:31:55</td>\n",
       "      <td>2017-12-25 01:32:35</td>\n",
       "    </tr>\n",
       "    <tr>\n",
       "      <th>3</th>\n",
       "      <td>58</td>\n",
       "      <td>M1514189410_2017-12-25-08-10-10_tids_[99].h5</td>\n",
       "      <td>1400.0</td>\n",
       "      <td>1445.0</td>\n",
       "      <td>45.0</td>\n",
       "      <td>[99]</td>\n",
       "      <td>2017-12-25 08:33:30</td>\n",
       "      <td>2017-12-25 08:34:15</td>\n",
       "    </tr>\n",
       "    <tr>\n",
       "      <th>4</th>\n",
       "      <td>62</td>\n",
       "      <td>M1514211010_2017-12-25-14-10-10_tids_[99].h5</td>\n",
       "      <td>2650.0</td>\n",
       "      <td>2675.0</td>\n",
       "      <td>25.0</td>\n",
       "      <td>[99]</td>\n",
       "      <td>2017-12-25 14:54:20</td>\n",
       "      <td>2017-12-25 14:54:45</td>\n",
       "    </tr>\n",
       "  </tbody>\n",
       "</table>\n",
       "</div>"
      ],
      "text/plain": [
       "   old_index                                      filename   start     end  \\\n",
       "0          3  M1513966209_2017-12-22-18-10-09_tids_[99].h5   610.0   625.0   \n",
       "1         15  M1514016609_2017-12-23-08-10-09_tids_[99].h5   950.0   985.0   \n",
       "2         55  M1514164210_2017-12-25-01-10-10_tids_[99].h5  1305.0  1345.0   \n",
       "3         58  M1514189410_2017-12-25-08-10-10_tids_[99].h5  1400.0  1445.0   \n",
       "4         62  M1514211010_2017-12-25-14-10-10_tids_[99].h5  2650.0  2675.0   \n",
       "\n",
       "   duration transmitter           real_start             real_end  \n",
       "0      15.0        [99]  2017-12-22 18:20:19  2017-12-22 18:20:34  \n",
       "1      35.0        [99]  2017-12-23 08:25:59  2017-12-23 08:26:34  \n",
       "2      40.0        [99]  2017-12-25 01:31:55  2017-12-25 01:32:35  \n",
       "3      45.0        [99]  2017-12-25 08:33:30  2017-12-25 08:34:15  \n",
       "4      25.0        [99]  2017-12-25 14:54:20  2017-12-25 14:54:45  "
      ]
     },
     "execution_count": 3,
     "metadata": {},
     "output_type": "execute_result"
    }
   ],
   "source": [
    "raw_preds.head()"
   ]
  },
  {
   "cell_type": "code",
   "execution_count": 4,
   "metadata": {},
   "outputs": [
    {
     "data": {
      "text/plain": [
       "(1287, 8)"
      ]
     },
     "execution_count": 4,
     "metadata": {},
     "output_type": "execute_result"
    }
   ],
   "source": [
    "raw_preds.shape"
   ]
  },
  {
   "cell_type": "code",
   "execution_count": 5,
   "metadata": {},
   "outputs": [
    {
     "data": {
      "text/plain": [
       "(729, 8)"
      ]
     },
     "execution_count": 5,
     "metadata": {},
     "output_type": "execute_result"
    }
   ],
   "source": [
    "checked_preds.shape"
   ]
  },
  {
   "cell_type": "code",
   "execution_count": 6,
   "metadata": {},
   "outputs": [
    {
     "name": "stdout",
     "output_type": "stream",
     "text": [
      "So we expect there to be 558 false positives\n"
     ]
    }
   ],
   "source": [
    "print('So we expect there to be', raw_preds.shape[0]-checked_preds.shape[0], 'false positives')"
   ]
  },
  {
   "cell_type": "markdown",
   "metadata": {},
   "source": [
    "# Code for comparing the dataframes"
   ]
  },
  {
   "cell_type": "code",
   "execution_count": 7,
   "metadata": {},
   "outputs": [],
   "source": [
    "def add_mcode_tid_col(df):\n",
    "    '''Note this expects file start to be of format: M1513966209'''\n",
    "    df['mcode_tid'] = df.filename.str.slice(0,11)+'_'+df.transmitter.astype(str)\n",
    "    return df\n",
    "\n",
    "def check_overlap(series1,series2):\n",
    "    ''' pandas series should both have start and end columns\n",
    "    http://baodad.blogspot.co.uk/2014/06/date-range-overlap.html\n",
    "    '''\n",
    "    start_a, end_a = float(series1.start), float(series1.end)\n",
    "    start_b, end_b = float(series2.start), float(series2.end)\n",
    "    overlap_bool = (start_a <= end_b) and (end_a>=start_b)\n",
    "    return overlap_bool\n",
    "\n",
    "def calculate_overlap(series1,series2):\n",
    "    ''' pandas series should both have start and end attrs\n",
    "    http://baodad.blogspot.co.uk/2014/06/date-range-overlap.html\n",
    "    '''\n",
    "    a, b = float(series1.start), float(series1.end)\n",
    "    c, d = float(series2.start), float(series2.end)\n",
    "    overlap = min([b-a,b-c,d-c,d-a])\n",
    "    return overlap\n",
    "\n",
    "def compare_dfs(prediction_df, annotation_df):\n",
    "    ''' \n",
    "    Function to check how much of prediction_df is found in annotation_df\n",
    "    \n",
    "    Returns two dataframes:\n",
    "        - preds_in_annotations_df: the predictions found within the annotations and the amount of overlap\n",
    "          (probably corresponding to true positives). Has an overlap column (seconds).\n",
    "        - preds_not_in_annotations_df: the predictions not found in the annotations\n",
    "          (probably corresponding to false positives)\n",
    "          \n",
    "    Note:\n",
    "        To check for false negatives, or missed seizures, pass in the actual annotations\n",
    "        as the 'prediction_df' and the and the actual predictions as the 'annotation_df'. \n",
    "        Here we would hope for no 'false positives', so the second dataframe will contain the \n",
    "        missed seizures...\n",
    "    '''\n",
    "    \n",
    "    # first add a 'mcode_tid' col: allows us to check for same hour and transmitter\n",
    "    prediction_df = add_mcode_tid_col(prediction_df)\n",
    "    annotation_df = add_mcode_tid_col(annotation_df)\n",
    "    \n",
    "    # Create empty dataframes that we will add to below\n",
    "    preds_in_annotations_df     = pd.DataFrame(columns = prediction_df.columns)\n",
    "    preds_not_in_annotations_df = pd.DataFrame(columns = prediction_df.columns)\n",
    "    \n",
    "    # loop over the predictions\n",
    "    for _, prediction_row_series in prediction_df.iterrows():\n",
    "        overlap_bool = False # boolean for if the predicted seizure at all overlaps with an annotation\n",
    "        # first check if the hour&transmitter is in the annotations\n",
    "        if prediction_row_series.mcode_tid in annotation_df.mcode_tid.unique():\n",
    "            \n",
    "            # next find all annotations with same hour and tid as the prediction row\n",
    "            # this will often just be one row, but if >1 seizures in a single hour will be more\n",
    "            revevant_annotations_df = annotation_df[annotation_df.mcode_tid.isin([prediction_row_series.mcode_tid])]\n",
    "            \n",
    "            # finally check if the start and end columns overlap\n",
    "            t_overlap = 0 # store the overlap time between preds and seizures\n",
    "            for _, annotation_row_series in revevant_annotations_df.iterrows(): \n",
    "                row_overlap   =  check_overlap(prediction_row_series,\n",
    "                                               annotation_row_series) # in the case that two seizures, want to add...\n",
    "                overlap_bool  += row_overlap\n",
    "                if row_overlap: # is this robust to two seizures?\n",
    "                    t_overlap += calculate_overlap(prediction_row_series,\n",
    "                                                   annotation_row_series)\n",
    "                \n",
    "        if overlap_bool>0:\n",
    "            prediction_row_series['overlap'] = t_overlap\n",
    "            preds_in_annotations_df   = preds_in_annotations_df.append(prediction_row_series)\n",
    "        else:\n",
    "            preds_not_in_annotations_df = preds_not_in_annotations_df.append(prediction_row_series)\n",
    "    \n",
    "    return preds_in_annotations_df, preds_not_in_annotations_df\n",
    "\n",
    "true_positives, false_positives = compare_dfs(raw_preds,checked_preds)     "
   ]
  },
  {
   "cell_type": "code",
   "execution_count": 8,
   "metadata": {},
   "outputs": [
    {
     "data": {
      "text/plain": [
       "((729, 10), (558, 9))"
      ]
     },
     "execution_count": 8,
     "metadata": {},
     "output_type": "execute_result"
    }
   ],
   "source": [
    "true_positives.shape, false_positives.shape"
   ]
  },
  {
   "cell_type": "code",
   "execution_count": 9,
   "metadata": {},
   "outputs": [
    {
     "data": {
      "text/html": [
       "<div>\n",
       "<style scoped>\n",
       "    .dataframe tbody tr th:only-of-type {\n",
       "        vertical-align: middle;\n",
       "    }\n",
       "\n",
       "    .dataframe tbody tr th {\n",
       "        vertical-align: top;\n",
       "    }\n",
       "\n",
       "    .dataframe thead th {\n",
       "        text-align: right;\n",
       "    }\n",
       "</style>\n",
       "<table border=\"1\" class=\"dataframe\">\n",
       "  <thead>\n",
       "    <tr style=\"text-align: right;\">\n",
       "      <th></th>\n",
       "      <th>old_index</th>\n",
       "      <th>filename</th>\n",
       "      <th>start</th>\n",
       "      <th>end</th>\n",
       "      <th>duration</th>\n",
       "      <th>transmitter</th>\n",
       "      <th>real_start</th>\n",
       "      <th>real_end</th>\n",
       "      <th>mcode_tid</th>\n",
       "      <th>overlap</th>\n",
       "    </tr>\n",
       "  </thead>\n",
       "  <tbody>\n",
       "    <tr>\n",
       "      <th>0</th>\n",
       "      <td>3</td>\n",
       "      <td>M1513966209_2017-12-22-18-10-09_tids_[99].h5</td>\n",
       "      <td>610.0</td>\n",
       "      <td>625.0</td>\n",
       "      <td>15.0</td>\n",
       "      <td>[99]</td>\n",
       "      <td>2017-12-22 18:20:19</td>\n",
       "      <td>2017-12-22 18:20:34</td>\n",
       "      <td>M1513966209_[99]</td>\n",
       "      <td>15.0</td>\n",
       "    </tr>\n",
       "    <tr>\n",
       "      <th>1</th>\n",
       "      <td>15</td>\n",
       "      <td>M1514016609_2017-12-23-08-10-09_tids_[99].h5</td>\n",
       "      <td>950.0</td>\n",
       "      <td>985.0</td>\n",
       "      <td>35.0</td>\n",
       "      <td>[99]</td>\n",
       "      <td>2017-12-23 08:25:59</td>\n",
       "      <td>2017-12-23 08:26:34</td>\n",
       "      <td>M1514016609_[99]</td>\n",
       "      <td>35.0</td>\n",
       "    </tr>\n",
       "    <tr>\n",
       "      <th>2</th>\n",
       "      <td>55</td>\n",
       "      <td>M1514164210_2017-12-25-01-10-10_tids_[99].h5</td>\n",
       "      <td>1305.0</td>\n",
       "      <td>1345.0</td>\n",
       "      <td>40.0</td>\n",
       "      <td>[99]</td>\n",
       "      <td>2017-12-25 01:31:55</td>\n",
       "      <td>2017-12-25 01:32:35</td>\n",
       "      <td>M1514164210_[99]</td>\n",
       "      <td>40.0</td>\n",
       "    </tr>\n",
       "    <tr>\n",
       "      <th>3</th>\n",
       "      <td>58</td>\n",
       "      <td>M1514189410_2017-12-25-08-10-10_tids_[99].h5</td>\n",
       "      <td>1400.0</td>\n",
       "      <td>1445.0</td>\n",
       "      <td>45.0</td>\n",
       "      <td>[99]</td>\n",
       "      <td>2017-12-25 08:33:30</td>\n",
       "      <td>2017-12-25 08:34:15</td>\n",
       "      <td>M1514189410_[99]</td>\n",
       "      <td>45.0</td>\n",
       "    </tr>\n",
       "    <tr>\n",
       "      <th>4</th>\n",
       "      <td>62</td>\n",
       "      <td>M1514211010_2017-12-25-14-10-10_tids_[99].h5</td>\n",
       "      <td>2650.0</td>\n",
       "      <td>2675.0</td>\n",
       "      <td>25.0</td>\n",
       "      <td>[99]</td>\n",
       "      <td>2017-12-25 14:54:20</td>\n",
       "      <td>2017-12-25 14:54:45</td>\n",
       "      <td>M1514211010_[99]</td>\n",
       "      <td>25.0</td>\n",
       "    </tr>\n",
       "  </tbody>\n",
       "</table>\n",
       "</div>"
      ],
      "text/plain": [
       "  old_index                                      filename   start     end  \\\n",
       "0         3  M1513966209_2017-12-22-18-10-09_tids_[99].h5   610.0   625.0   \n",
       "1        15  M1514016609_2017-12-23-08-10-09_tids_[99].h5   950.0   985.0   \n",
       "2        55  M1514164210_2017-12-25-01-10-10_tids_[99].h5  1305.0  1345.0   \n",
       "3        58  M1514189410_2017-12-25-08-10-10_tids_[99].h5  1400.0  1445.0   \n",
       "4        62  M1514211010_2017-12-25-14-10-10_tids_[99].h5  2650.0  2675.0   \n",
       "\n",
       "   duration transmitter           real_start             real_end  \\\n",
       "0      15.0        [99]  2017-12-22 18:20:19  2017-12-22 18:20:34   \n",
       "1      35.0        [99]  2017-12-23 08:25:59  2017-12-23 08:26:34   \n",
       "2      40.0        [99]  2017-12-25 01:31:55  2017-12-25 01:32:35   \n",
       "3      45.0        [99]  2017-12-25 08:33:30  2017-12-25 08:34:15   \n",
       "4      25.0        [99]  2017-12-25 14:54:20  2017-12-25 14:54:45   \n",
       "\n",
       "          mcode_tid  overlap  \n",
       "0  M1513966209_[99]     15.0  \n",
       "1  M1514016609_[99]     35.0  \n",
       "2  M1514164210_[99]     40.0  \n",
       "3  M1514189410_[99]     45.0  \n",
       "4  M1514211010_[99]     25.0  "
      ]
     },
     "execution_count": 9,
     "metadata": {},
     "output_type": "execute_result"
    }
   ],
   "source": [
    "true_positives.head()"
   ]
  },
  {
   "cell_type": "code",
   "execution_count": 10,
   "metadata": {},
   "outputs": [
    {
     "data": {
      "text/html": [
       "<div>\n",
       "<style scoped>\n",
       "    .dataframe tbody tr th:only-of-type {\n",
       "        vertical-align: middle;\n",
       "    }\n",
       "\n",
       "    .dataframe tbody tr th {\n",
       "        vertical-align: top;\n",
       "    }\n",
       "\n",
       "    .dataframe thead th {\n",
       "        text-align: right;\n",
       "    }\n",
       "</style>\n",
       "<table border=\"1\" class=\"dataframe\">\n",
       "  <thead>\n",
       "    <tr style=\"text-align: right;\">\n",
       "      <th></th>\n",
       "      <th>old_index</th>\n",
       "      <th>filename</th>\n",
       "      <th>start</th>\n",
       "      <th>end</th>\n",
       "      <th>duration</th>\n",
       "      <th>transmitter</th>\n",
       "      <th>real_start</th>\n",
       "      <th>real_end</th>\n",
       "      <th>mcode_tid</th>\n",
       "    </tr>\n",
       "  </thead>\n",
       "  <tbody>\n",
       "    <tr>\n",
       "      <th>115</th>\n",
       "      <td>56</td>\n",
       "      <td>M1514178610_2017-12-25-05-10-10_tids_[98].h5</td>\n",
       "      <td>0.0</td>\n",
       "      <td>5.0</td>\n",
       "      <td>5.0</td>\n",
       "      <td>[98]</td>\n",
       "      <td>2017-12-25 05:10:10</td>\n",
       "      <td>2017-12-25 05:10:15</td>\n",
       "      <td>M1514178610_[98]</td>\n",
       "    </tr>\n",
       "    <tr>\n",
       "      <th>126</th>\n",
       "      <td>5</td>\n",
       "      <td>M1513969809_2017-12-22-19-10-09_tids_[97].h5</td>\n",
       "      <td>3565.0</td>\n",
       "      <td>3580.0</td>\n",
       "      <td>15.0</td>\n",
       "      <td>[97]</td>\n",
       "      <td>2017-12-22 20:09:34</td>\n",
       "      <td>2017-12-22 20:09:49</td>\n",
       "      <td>M1513969809_[97]</td>\n",
       "    </tr>\n",
       "    <tr>\n",
       "      <th>128</th>\n",
       "      <td>8</td>\n",
       "      <td>M1513977009_2017-12-22-21-10-09_tids_[97].h5</td>\n",
       "      <td>3540.0</td>\n",
       "      <td>3560.0</td>\n",
       "      <td>20.0</td>\n",
       "      <td>[97]</td>\n",
       "      <td>2017-12-22 22:09:09</td>\n",
       "      <td>2017-12-22 22:09:29</td>\n",
       "      <td>M1513977009_[97]</td>\n",
       "    </tr>\n",
       "    <tr>\n",
       "      <th>143</th>\n",
       "      <td>25</td>\n",
       "      <td>M1514038209_2017-12-23-14-10-09_tids_[97].h5</td>\n",
       "      <td>20.0</td>\n",
       "      <td>30.0</td>\n",
       "      <td>10.0</td>\n",
       "      <td>[97]</td>\n",
       "      <td>2017-12-23 14:10:29</td>\n",
       "      <td>2017-12-23 14:10:39</td>\n",
       "      <td>M1514038209_[97]</td>\n",
       "    </tr>\n",
       "    <tr>\n",
       "      <th>194</th>\n",
       "      <td>127</td>\n",
       "      <td>M1514445010_2017-12-28-07-10-10_tids_[97].h5</td>\n",
       "      <td>2615.0</td>\n",
       "      <td>2645.0</td>\n",
       "      <td>30.0</td>\n",
       "      <td>[97]</td>\n",
       "      <td>2017-12-28 07:53:45</td>\n",
       "      <td>2017-12-28 07:54:15</td>\n",
       "      <td>M1514445010_[97]</td>\n",
       "    </tr>\n",
       "  </tbody>\n",
       "</table>\n",
       "</div>"
      ],
      "text/plain": [
       "    old_index                                      filename   start     end  \\\n",
       "115        56  M1514178610_2017-12-25-05-10-10_tids_[98].h5     0.0     5.0   \n",
       "126         5  M1513969809_2017-12-22-19-10-09_tids_[97].h5  3565.0  3580.0   \n",
       "128         8  M1513977009_2017-12-22-21-10-09_tids_[97].h5  3540.0  3560.0   \n",
       "143        25  M1514038209_2017-12-23-14-10-09_tids_[97].h5    20.0    30.0   \n",
       "194       127  M1514445010_2017-12-28-07-10-10_tids_[97].h5  2615.0  2645.0   \n",
       "\n",
       "     duration transmitter           real_start             real_end  \\\n",
       "115       5.0        [98]  2017-12-25 05:10:10  2017-12-25 05:10:15   \n",
       "126      15.0        [97]  2017-12-22 20:09:34  2017-12-22 20:09:49   \n",
       "128      20.0        [97]  2017-12-22 22:09:09  2017-12-22 22:09:29   \n",
       "143      10.0        [97]  2017-12-23 14:10:29  2017-12-23 14:10:39   \n",
       "194      30.0        [97]  2017-12-28 07:53:45  2017-12-28 07:54:15   \n",
       "\n",
       "            mcode_tid  \n",
       "115  M1514178610_[98]  \n",
       "126  M1513969809_[97]  \n",
       "128  M1513977009_[97]  \n",
       "143  M1514038209_[97]  \n",
       "194  M1514445010_[97]  "
      ]
     },
     "execution_count": 10,
     "metadata": {},
     "output_type": "execute_result"
    }
   ],
   "source": [
    "false_positives.head()"
   ]
  },
  {
   "cell_type": "markdown",
   "metadata": {},
   "source": [
    "# Here save the false positives to check through using the gui\n",
    "\n",
    "- they might not all be false positives!"
   ]
  },
  {
   "cell_type": "code",
   "execution_count": 11,
   "metadata": {},
   "outputs": [],
   "source": [
    "savename = 'predictions_not_in_annotations.csv'\n",
    "false_positives.to_csv(savename,header=False, index=False)"
   ]
  },
  {
   "cell_type": "markdown",
   "metadata": {},
   "source": [
    "# Here flip the order of dataframes:\n",
    "\n",
    "```\n",
    "Note:\n",
    "        To check for false negatives, or missed seizures, pass in the actual annotations\n",
    "        as the 'prediction_df' and the and the actual predictions as the 'annotation_df'. \n",
    "        Here we would hope for no 'false positives', so the second dataframe will contain the \n",
    "        missed seizures...\n",
    "```\n",
    "\n",
    "Pass in checked preds as the predctions. This is similar to the case where you are checking for missed seizures"
   ]
  },
  {
   "cell_type": "code",
   "execution_count": 12,
   "metadata": {},
   "outputs": [],
   "source": [
    "true_positives, false_positives = compare_dfs(checked_preds,raw_preds)     "
   ]
  },
  {
   "cell_type": "code",
   "execution_count": 13,
   "metadata": {},
   "outputs": [
    {
     "data": {
      "text/plain": [
       "(729, 10)"
      ]
     },
     "execution_count": 13,
     "metadata": {},
     "output_type": "execute_result"
    }
   ],
   "source": [
    "true_positives.shape"
   ]
  },
  {
   "cell_type": "code",
   "execution_count": 14,
   "metadata": {},
   "outputs": [
    {
     "data": {
      "text/plain": [
       "(0, 9)"
      ]
     },
     "execution_count": 14,
     "metadata": {},
     "output_type": "execute_result"
    }
   ],
   "source": [
    "false_positives.shape"
   ]
  },
  {
   "cell_type": "markdown",
   "metadata": {},
   "source": [
    "as expected no false positives. If there were these would be annoations that had been missed (if the predictions were over the same time period as the annotations)"
   ]
  },
  {
   "cell_type": "code",
   "execution_count": null,
   "metadata": {},
   "outputs": [],
   "source": []
  }
 ],
 "metadata": {
  "kernelspec": {
   "display_name": "Python 3",
   "language": "python",
   "name": "python3"
  },
  "language_info": {
   "codemirror_mode": {
    "name": "ipython",
    "version": 3
   },
   "file_extension": ".py",
   "mimetype": "text/x-python",
   "name": "python",
   "nbconvert_exporter": "python",
   "pygments_lexer": "ipython3",
   "version": "3.5.4"
  }
 },
 "nbformat": 4,
 "nbformat_minor": 2
}
