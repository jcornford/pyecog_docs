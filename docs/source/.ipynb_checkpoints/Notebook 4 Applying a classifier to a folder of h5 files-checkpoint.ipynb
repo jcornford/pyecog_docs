{
 "cells": [
  {
   "cell_type": "markdown",
   "metadata": {},
   "source": [
    "# Notebook 3: Applying a classifier to a folder of h5 files\n",
    "In this notebook we go through using a trained classifier to detect activity on new data."
   ]
  },
  {
   "cell_type": "code",
   "execution_count": null,
   "metadata": {},
   "outputs": [],
   "source": [
    "import sys\n",
    "import os"
   ]
  },
  {
   "cell_type": "markdown",
   "metadata": {},
   "source": [
    "## Loading the pyecog module\n",
    "\n",
    "The easiest place in which to download and run this notebook is the pyecog directory downloaded from github, e.g. \"pyecog-Development\" as the pyecog module will be found in this folder. However, if you want to run the notebook from elsewhere on your computer you first need to make sure that python can find the pyecog module using sys.path.append(). To do this modify and copy the following code into a cell and run it (shift+enter).\n",
    "\n",
    "```python\n",
    "pyecog_path = '/home/jonathan/git_repos/pyecog' # replace this with the pyecog's location on your computer\n",
    "sys.path.append(pyecog_path)\n",
    "```\n",
    "\n",
    "If you are on windows you have to deal with the problem that backslashes in your paths (when you copy them) are treated escape characters by python. Prefixing the string with 'r' prevents this, as python creates a \"raw\" string literal in which \\ are treated as literal characters, not escape characters. \n",
    "\n",
    "```python\n",
    "pyecog_path = r'C:\\home\\jonathan\\git_repos\\pyecog'  # replace this with the pyecog's location on your computer\n",
    "\n",
    "```"
   ]
  },
  {
   "cell_type": "code",
   "execution_count": null,
   "metadata": {},
   "outputs": [],
   "source": [
    "# note if you are in the directory downloaded from github you do not have to run this cell \n",
    "#pyecog_path = r'C:\\Users\\Eleonora Lugara\\Desktop\\pyecog-Development' \n",
    "pyecog_path = '/home/jonathan/git_repos/pyecog'\n",
    "sys.path.append(pyecog_path)"
   ]
  },
  {
   "cell_type": "code",
   "execution_count": null,
   "metadata": {},
   "outputs": [],
   "source": [
    "import pyecog as pg\n",
    "pg"
   ]
  },
  {
   "cell_type": "markdown",
   "metadata": {},
   "source": [
    "### Warnings and errors!\n",
    "\n",
    "1. If you have an error message like:\n",
    "\n",
    "```python\n",
    "ImportError: No module named 'pyecog'\n",
    "```\n",
    "    This probably means you haven't set he \"pyecog_path\" variable correctly\n",
    "\n",
    "2. If you have a different warning or error. Check you have activated your pyecog environment before running jupyter notebook. On a windows machine, in anaconda prompt:\n",
    "\n",
    "```\n",
    ">> activate pyecog_env # \"source activate pyecog\" for mac or linux\n",
    ">> jupyter notebook\n",
    "```\n"
   ]
  },
  {
   "cell_type": "markdown",
   "metadata": {},
   "source": [
    "# Set up variables:\n",
    "\n",
    "We just need to tell python where to find the classifier and which directory to apply in. "
   ]
  },
  {
   "cell_type": "code",
   "execution_count": null,
   "metadata": {},
   "outputs": [],
   "source": [
    "clf_filepath   = '/INSERT HERE'\n",
    "h5_folderpath  = '/media/jonathan/DATA/seizure_data/test_convert_h5'"
   ]
  },
  {
   "cell_type": "code",
   "execution_count": null,
   "metadata": {},
   "outputs": [],
   "source": [
    "# load the classifier\n",
    "clf = pg.classifier.load_classifier(clf_filepath)"
   ]
  },
  {
   "cell_type": "markdown",
   "metadata": {},
   "source": [
    "### Use classifier to predict seizures\n",
    "\n",
    "We then pass the \"predict_dir\" method two arguments. The name of the predictions file we want to make, and the folder path that we want to classify. By default, after the classifier has detected 50 seizures, the predictions csv file will be saved, and you can load up the predictions in the gui. \n"
   ]
  },
  {
   "cell_type": "code",
   "execution_count": null,
   "metadata": {},
   "outputs": [],
   "source": [
    "predictions_csv = '/media/jonathan/DATA/seizure_data/test_predictions.csv'"
   ]
  },
  {
   "cell_type": "code",
   "execution_count": null,
   "metadata": {},
   "outputs": [],
   "source": [
    "clf.predict_dir(h5_folderpath, \n",
    "                output_csv_filename=predictions_csv)"
   ]
  },
  {
   "cell_type": "code",
   "execution_count": null,
   "metadata": {},
   "outputs": [],
   "source": []
  }
 ],
 "metadata": {
  "kernelspec": {
   "display_name": "Python 3",
   "language": "python",
   "name": "python3"
  },
  "language_info": {
   "codemirror_mode": {
    "name": "ipython",
    "version": 3
   },
   "file_extension": ".py",
   "mimetype": "text/x-python",
   "name": "python",
   "nbconvert_exporter": "python",
   "pygments_lexer": "ipython3",
   "version": "3.5.4"
  }
 },
 "nbformat": 4,
 "nbformat_minor": 2
}
